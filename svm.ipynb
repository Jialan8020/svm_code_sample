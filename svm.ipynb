{
 "cells": [
  {
   "cell_type": "code",
   "execution_count": 1,
   "id": "70cabfab",
   "metadata": {},
   "outputs": [],
   "source": [
    "from scipy import io\n",
    "import random\n",
    "import numpy as np\n",
    "import pandas as pd\n",
    "import matplotlib.pyplot as plt"
   ]
  },
  {
   "cell_type": "markdown",
   "id": "02b2233b",
   "metadata": {},
   "source": [
    "### Read data and only select overlapping features between CD4+ and CD8+ cells"
   ]
  },
  {
   "cell_type": "code",
   "execution_count": 2,
   "id": "1659fd65",
   "metadata": {},
   "outputs": [
    {
     "data": {
      "text/plain": [
       "array([[0., 0., 0., ..., 0., 0., 0.],\n",
       "       [0., 0., 0., ..., 0., 0., 0.],\n",
       "       [1., 0., 0., ..., 0., 1., 0.],\n",
       "       ...,\n",
       "       [0., 0., 0., ..., 0., 0., 0.],\n",
       "       [0., 0., 0., ..., 0., 1., 0.],\n",
       "       [0., 0., 0., ..., 0., 1., 0.]])"
      ]
     },
     "execution_count": 2,
     "metadata": {},
     "output_type": "execute_result"
    }
   ],
   "source": [
    "cd4_path = \"/Users/jialanma/Downloads/cd4_expression.mtx\"\n",
    "cd4_dat = io.mmread(cd4_path)\n",
    "cd4_arr = np.array(cd4_dat.todense())\n",
    "cd4_arr"
   ]
  },
  {
   "cell_type": "code",
   "execution_count": 3,
   "id": "21d3ffe2",
   "metadata": {},
   "outputs": [
    {
     "data": {
      "text/plain": [
       "array([[0., 0., 0., ..., 0., 0., 0.],\n",
       "       [0., 0., 0., ..., 0., 0., 0.],\n",
       "       [0., 0., 0., ..., 0., 0., 0.],\n",
       "       ...,\n",
       "       [0., 0., 0., ..., 0., 0., 0.],\n",
       "       [0., 0., 0., ..., 0., 0., 0.],\n",
       "       [0., 0., 0., ..., 0., 1., 0.]])"
      ]
     },
     "execution_count": 3,
     "metadata": {},
     "output_type": "execute_result"
    }
   ],
   "source": [
    "cd8_path = \"/Users/jialanma/Downloads/cd8_expression.mtx\"\n",
    "cd8_dat = io.mmread(cd8_path)\n",
    "cd8_arr = np.array(cd8_dat.todense())\n",
    "cd8_arr"
   ]
  },
  {
   "cell_type": "code",
   "execution_count": 4,
   "id": "528f9806",
   "metadata": {},
   "outputs": [],
   "source": [
    "cd4_genes = pd.read_csv(\"/Users/jialanma/Downloads/CD4_gene_names.txt\",header=None)\n",
    "cd8_genes = pd.read_csv(\"/Users/jialanma/Downloads/CD8_gene_names.txt\",header=None)"
   ]
  },
  {
   "cell_type": "code",
   "execution_count": 5,
   "id": "bc04c21c",
   "metadata": {},
   "outputs": [],
   "source": [
    "cd4_genes = np.array(cd4_genes)\n",
    "cd8_genes = np.array(cd8_genes)"
   ]
  },
  {
   "cell_type": "code",
   "execution_count": 6,
   "id": "aa79267c",
   "metadata": {},
   "outputs": [],
   "source": [
    "intersect, cd4, cd8 = np.intersect1d(cd4_genes,cd8_genes, return_indices=True)"
   ]
  },
  {
   "cell_type": "code",
   "execution_count": 7,
   "id": "e1f1c5f6",
   "metadata": {},
   "outputs": [],
   "source": [
    "cd4_filtered = cd4_arr[:,cd4]"
   ]
  },
  {
   "cell_type": "code",
   "execution_count": 8,
   "id": "ceb00930",
   "metadata": {},
   "outputs": [],
   "source": [
    "cd8_filtered = cd8_arr[:,cd8]"
   ]
  },
  {
   "cell_type": "code",
   "execution_count": 9,
   "id": "9a81da25",
   "metadata": {
    "scrolled": true
   },
   "outputs": [
    {
     "data": {
      "text/plain": [
       "(6000, 12069)"
      ]
     },
     "execution_count": 9,
     "metadata": {},
     "output_type": "execute_result"
    }
   ],
   "source": [
    "X_train = np.vstack([cd4_filtered[:3000,:],cd8_filtered[:3000,:]])\n",
    "X_train.shape"
   ]
  },
  {
   "cell_type": "code",
   "execution_count": 10,
   "id": "71d8e9ab",
   "metadata": {},
   "outputs": [
    {
     "data": {
      "text/plain": [
       "(6000,)"
      ]
     },
     "execution_count": 10,
     "metadata": {},
     "output_type": "execute_result"
    }
   ],
   "source": [
    "y_train = np.hstack([np.ones(3000),np.zeros(3000)])\n",
    "y_train.shape"
   ]
  },
  {
   "cell_type": "code",
   "execution_count": 11,
   "id": "f21356ae",
   "metadata": {},
   "outputs": [
    {
     "data": {
      "text/plain": [
       "(11422, 12069)"
      ]
     },
     "execution_count": 11,
     "metadata": {},
     "output_type": "execute_result"
    }
   ],
   "source": [
    "X_test = np.vstack([cd4_filtered[5000:,:],cd8_filtered[5000:,:]])\n",
    "X_test.shape"
   ]
  },
  {
   "cell_type": "code",
   "execution_count": 12,
   "id": "323f9c11",
   "metadata": {},
   "outputs": [
    {
     "data": {
      "text/plain": [
       "(11422,)"
      ]
     },
     "execution_count": 12,
     "metadata": {},
     "output_type": "execute_result"
    }
   ],
   "source": [
    "y_test = np.hstack([np.ones(cd4_filtered.shape[0]-5000),np.zeros(cd8_filtered.shape[0]-5000)])\n",
    "y_test.shape"
   ]
  },
  {
   "cell_type": "code",
   "execution_count": 13,
   "id": "43b0f13f",
   "metadata": {},
   "outputs": [
    {
     "data": {
      "text/plain": [
       "(17422, 12069)"
      ]
     },
     "execution_count": 13,
     "metadata": {},
     "output_type": "execute_result"
    }
   ],
   "source": [
    "X = np.vstack([X_train,X_test])\n",
    "X.shape"
   ]
  },
  {
   "cell_type": "code",
   "execution_count": null,
   "id": "27ea49fa",
   "metadata": {},
   "outputs": [],
   "source": []
  },
  {
   "cell_type": "code",
   "execution_count": null,
   "id": "7e7cbc35",
   "metadata": {},
   "outputs": [],
   "source": []
  },
  {
   "cell_type": "code",
   "execution_count": null,
   "id": "0640e5f7",
   "metadata": {},
   "outputs": [],
   "source": []
  },
  {
   "cell_type": "markdown",
   "id": "534e7493",
   "metadata": {},
   "source": [
    "### Pinciple component analysis to reduce feature dimension"
   ]
  },
  {
   "cell_type": "code",
   "execution_count": 14,
   "id": "7c2fd68a",
   "metadata": {},
   "outputs": [],
   "source": [
    "from sklearn.svm import SVC\n",
    "from sklearn.decomposition import PCA"
   ]
  },
  {
   "cell_type": "code",
   "execution_count": 15,
   "id": "231fe143",
   "metadata": {},
   "outputs": [],
   "source": [
    "pca = PCA(n_components=100)"
   ]
  },
  {
   "cell_type": "code",
   "execution_count": 16,
   "id": "2166ca19",
   "metadata": {},
   "outputs": [
    {
     "data": {
      "text/plain": [
       "(17422, 12069)"
      ]
     },
     "execution_count": 16,
     "metadata": {},
     "output_type": "execute_result"
    }
   ],
   "source": [
    "X.shape"
   ]
  },
  {
   "cell_type": "code",
   "execution_count": 17,
   "id": "e5e15596",
   "metadata": {},
   "outputs": [],
   "source": [
    "X_new = pca.fit(X.T)"
   ]
  },
  {
   "cell_type": "code",
   "execution_count": 18,
   "id": "fde861e0",
   "metadata": {},
   "outputs": [
    {
     "data": {
      "text/plain": [
       "(100, 17422)"
      ]
     },
     "execution_count": 18,
     "metadata": {},
     "output_type": "execute_result"
    }
   ],
   "source": [
    "X_new = X_new.components_\n",
    "X_new.shape"
   ]
  },
  {
   "cell_type": "code",
   "execution_count": 19,
   "id": "3f0c166a",
   "metadata": {},
   "outputs": [
    {
     "data": {
      "text/plain": [
       "(17422, 100)"
      ]
     },
     "execution_count": 19,
     "metadata": {},
     "output_type": "execute_result"
    }
   ],
   "source": [
    "X_new = X_new.T\n",
    "X_new.shape"
   ]
  },
  {
   "cell_type": "code",
   "execution_count": 20,
   "id": "671cba7d",
   "metadata": {},
   "outputs": [
    {
     "data": {
      "text/plain": [
       "(6000, 100)"
      ]
     },
     "execution_count": 20,
     "metadata": {},
     "output_type": "execute_result"
    }
   ],
   "source": [
    "X_train_new,X_test_new = X_new[:6000,:],X_new[6000:,:]\n",
    "X_train_new.shape"
   ]
  },
  {
   "cell_type": "code",
   "execution_count": null,
   "id": "5409d195",
   "metadata": {},
   "outputs": [],
   "source": []
  },
  {
   "cell_type": "markdown",
   "id": "dd398a76",
   "metadata": {},
   "source": [
    "### SVM model\n"
   ]
  },
  {
   "cell_type": "code",
   "execution_count": 21,
   "id": "8a7ca0aa",
   "metadata": {},
   "outputs": [],
   "source": [
    "class SVM_modified:\n",
    "    def __init__(self,C=10,max_iter=10000):\n",
    "        self.kernel = lambda x1,x2: x1.T @ x2\n",
    "        self.theta = lambda x1,y1,x2,y2: y1*y2*self.kernel(x1,x2)\n",
    "        self.C = C\n",
    "        self.max_iter = max_iter\n",
    "        \n",
    "    def get_Q(self,x1,y1,x2,y2):\n",
    "        theta_11 = self.theta(x1,y1,x1,y1)\n",
    "        theta_12 = self.theta(x1,y1,x2,y2)\n",
    "        theta_22 = self.theta(x2,y2,x2,y2)\n",
    "        \n",
    "        Q = np.array([[theta_11[0][0],theta_12[0][0]],[theta_12[0][0],theta_22[0][0]]])\n",
    "        return Q\n",
    "    \n",
    "    def get_k0(self,x1,x2,y1,y2,X,y):\n",
    "        \n",
    "        y_len = len(y)\n",
    "        y1_use,y2_use = y1*np.ones(y_len).reshape(-1,1),y2*np.ones(y_len).reshape(-1,1)\n",
    "        k0_top = self.lambdas.T@self.theta(X.T,y,x1,y1_use)  \n",
    "        k0_bot = self.lambdas.T@self.theta(X.T,y,x2,y2_use) \n",
    "        k0 = np.ones(2).reshape(-1,1)-np.array([k0_top,k0_bot]).reshape(-1,1)\n",
    "\n",
    "        return k0\n",
    "    \n",
    "    def clip_t(self,t_max,v0,u):\n",
    "        C = self.C\n",
    "        t_clip1 = (np.clip(v0+t_max*u,0,C)-v0)[1]/u[1]\n",
    "        t_clip2 = (np.clip(v0+t_clip1*u,0,C)-v0)[0]/u[0]\n",
    "        \n",
    "        return t_clip2\n",
    "        \n",
    "    def fit(self,X,y):\n",
    "        self.lambdas = np.zeros(len(y)).reshape(-1,1)\n",
    "        self.X = X.copy()\n",
    "        self.y = (2*y - 1).reshape(-1,1) # Convert classes 1 and 0 to +1 and -1\n",
    "        # self.theta = y1*y2*self.kernel(x1,x2)\n",
    "\n",
    "        for i in range(self.max_iter):\n",
    "            for lambda1 in range(len(self.lambdas)):  # iterate over all lambda1\n",
    "                lambda2 = lambda1\n",
    "                while lambda1 == lambda2:\n",
    "                    lambda2 = np.random.randint(0,len(self.lambdas))   # randomly choose lambda2 that is not lambda1\n",
    "                \n",
    "                x1 = self.X[lambda1,:].reshape(-1,1) # column vector\n",
    "                x2 = self.X[lambda2,:].reshape(-1,1) # column vector\n",
    "                y1 = self.y[lambda1]\n",
    "                y2 = self.y[lambda2]\n",
    "       \n",
    "                Q = self.get_Q(x1,y1,x2,y2)\n",
    "                v0 = self.lambdas[[lambda1,lambda2]].reshape(-1,1) # column vector\n",
    "                u = np.array([-y2,y1]).reshape(-1,1)  # column vector\n",
    "                k0 = self.get_k0(x1,x2,y1,y2,self.X,self.y)\n",
    "                t_max = (k0.T@u)/(u.T@Q@u + 1e-15)   # add 1e-15 since the denominator is positive-semidefinite (>=0)\n",
    "                t_clipped = self.clip_t(t_max,v0,u)\n",
    "                self.lambdas[[lambda1,lambda2]] = v0+u*t_clipped\n",
    "\n",
    "                \n",
    "        sv_index = (self.lambdas>1e-15).flatten()  # indices of support vectors\n",
    "        self.weights = (self.lambdas*self.y).reshape(1,-1)@X\n",
    "        self.weights = self.weights.reshape(X.shape[1],1)   # feature dimension\n",
    "        b = self.y[sv_index] - X[sv_index]@self.weights\n",
    "        self.b = b.mean()\n",
    "\n",
    "        \n",
    "    def predict(self,X):\n",
    "        print(self.b)\n",
    "        sign = X@self.weights + self.b\n",
    "        for i in range(len(sign)):\n",
    "            if sign[i] > 0:\n",
    "                sign[i] = 1\n",
    "            else:\n",
    "                sign[i] = 0\n",
    "        return sign\n",
    "        \n"
   ]
  },
  {
   "cell_type": "code",
   "execution_count": 22,
   "id": "8569ee6b",
   "metadata": {},
   "outputs": [],
   "source": [
    "svm_model = SVM_modified(C=10, max_iter=20)"
   ]
  },
  {
   "cell_type": "code",
   "execution_count": 23,
   "id": "c6f97abe",
   "metadata": {},
   "outputs": [],
   "source": [
    "svm_model.fit(X_train_new,y_train)"
   ]
  },
  {
   "cell_type": "code",
   "execution_count": 24,
   "id": "60a73236",
   "metadata": {},
   "outputs": [
    {
     "name": "stdout",
     "output_type": "stream",
     "text": [
      "0.06310215583737759\n"
     ]
    }
   ],
   "source": [
    "predict = svm_model.predict(X_test_new)"
   ]
  },
  {
   "cell_type": "code",
   "execution_count": null,
   "id": "d9334833",
   "metadata": {},
   "outputs": [],
   "source": []
  },
  {
   "cell_type": "markdown",
   "id": "71831adf",
   "metadata": {},
   "source": [
    "### Sklearn SVM"
   ]
  },
  {
   "cell_type": "code",
   "execution_count": 25,
   "id": "5782296e",
   "metadata": {},
   "outputs": [],
   "source": [
    "from sklearn import svm"
   ]
  },
  {
   "cell_type": "code",
   "execution_count": 26,
   "id": "5ad0a3bc",
   "metadata": {},
   "outputs": [],
   "source": [
    "clf = svm.SVC(C=10,kernel='linear')"
   ]
  },
  {
   "cell_type": "code",
   "execution_count": 27,
   "id": "11a29df2",
   "metadata": {},
   "outputs": [
    {
     "data": {
      "text/plain": [
       "SVC(C=10, kernel='linear')"
      ]
     },
     "execution_count": 27,
     "metadata": {},
     "output_type": "execute_result"
    }
   ],
   "source": [
    "clf.fit(X_train_new, y_train)"
   ]
  },
  {
   "cell_type": "code",
   "execution_count": 28,
   "id": "31da4752",
   "metadata": {},
   "outputs": [],
   "source": [
    "sk_predict = clf.predict(X_test_new)"
   ]
  },
  {
   "cell_type": "code",
   "execution_count": null,
   "id": "b0a0162b",
   "metadata": {},
   "outputs": [],
   "source": []
  },
  {
   "cell_type": "code",
   "execution_count": null,
   "id": "c620f80f",
   "metadata": {},
   "outputs": [],
   "source": []
  },
  {
   "cell_type": "markdown",
   "id": "053d098a",
   "metadata": {},
   "source": [
    "### Evaluation"
   ]
  },
  {
   "cell_type": "markdown",
   "id": "70e76772",
   "metadata": {},
   "source": [
    "#### Prediction accuracy"
   ]
  },
  {
   "cell_type": "code",
   "execution_count": 29,
   "id": "74474647",
   "metadata": {},
   "outputs": [],
   "source": [
    "m_test = X_test_new.shape[0]"
   ]
  },
  {
   "cell_type": "code",
   "execution_count": 30,
   "id": "b1a6d84b",
   "metadata": {},
   "outputs": [
    {
     "data": {
      "text/plain": [
       "156"
      ]
     },
     "execution_count": 30,
     "metadata": {},
     "output_type": "execute_result"
    }
   ],
   "source": [
    "count = 0\n",
    "for i in range(m_test):\n",
    "    if predict[i] != y_test[i]:\n",
    "        count += 1\n",
    "count"
   ]
  },
  {
   "cell_type": "code",
   "execution_count": 31,
   "id": "84e5ae53",
   "metadata": {
    "scrolled": true
   },
   "outputs": [],
   "source": [
    "predict_accu = (m_test-count)/m_test"
   ]
  },
  {
   "cell_type": "code",
   "execution_count": 32,
   "id": "652d2451",
   "metadata": {
    "scrolled": true
   },
   "outputs": [
    {
     "name": "stdout",
     "output_type": "stream",
     "text": [
      "Prediction Accuracy:  0.9863421467343723\n"
     ]
    }
   ],
   "source": [
    "print(\"Prediction Accuracy: \",predict_accu)"
   ]
  },
  {
   "cell_type": "code",
   "execution_count": null,
   "id": "5f45bc32",
   "metadata": {},
   "outputs": [],
   "source": []
  },
  {
   "cell_type": "code",
   "execution_count": null,
   "id": "3c78d941",
   "metadata": {},
   "outputs": [],
   "source": []
  },
  {
   "cell_type": "code",
   "execution_count": 33,
   "id": "16a1cabe",
   "metadata": {},
   "outputs": [],
   "source": [
    "m_test = X_test_new.shape[0]"
   ]
  },
  {
   "cell_type": "code",
   "execution_count": 34,
   "id": "344f5ac2",
   "metadata": {},
   "outputs": [
    {
     "data": {
      "text/plain": [
       "171"
      ]
     },
     "execution_count": 34,
     "metadata": {},
     "output_type": "execute_result"
    }
   ],
   "source": [
    "sk_count = 0\n",
    "for i in range(m_test):\n",
    "    if sk_predict[i] != y_test[i]:\n",
    "        sk_count += 1\n",
    "sk_count"
   ]
  },
  {
   "cell_type": "code",
   "execution_count": 35,
   "id": "80e2f394",
   "metadata": {
    "scrolled": true
   },
   "outputs": [],
   "source": [
    "sk_predict_accu = (m_test-sk_count)/m_test"
   ]
  },
  {
   "cell_type": "code",
   "execution_count": 36,
   "id": "841493be",
   "metadata": {
    "scrolled": true
   },
   "outputs": [
    {
     "name": "stdout",
     "output_type": "stream",
     "text": [
      "Sklearn Prediction Accuracy:  0.9850288916126773\n"
     ]
    }
   ],
   "source": [
    "print(\"Sklearn Prediction Accuracy: \",sk_predict_accu)"
   ]
  },
  {
   "cell_type": "code",
   "execution_count": null,
   "id": "a10db07f",
   "metadata": {},
   "outputs": [],
   "source": []
  },
  {
   "cell_type": "markdown",
   "id": "b3319918",
   "metadata": {},
   "source": [
    "#### AUC plot"
   ]
  },
  {
   "cell_type": "code",
   "execution_count": 37,
   "id": "bc0388b2",
   "metadata": {},
   "outputs": [],
   "source": [
    "from sklearn import metrics\n",
    "import matplotlib.pyplot as plt"
   ]
  },
  {
   "cell_type": "code",
   "execution_count": 38,
   "id": "3960cba8",
   "metadata": {},
   "outputs": [],
   "source": [
    "fpr, tpr, thresholds = metrics.roc_curve(y_test, predict, pos_label=1) "
   ]
  },
  {
   "cell_type": "code",
   "execution_count": 39,
   "id": "4a884e08",
   "metadata": {},
   "outputs": [
    {
     "data": {
      "text/plain": [
       "0.9859410829793314"
      ]
     },
     "execution_count": 39,
     "metadata": {},
     "output_type": "execute_result"
    }
   ],
   "source": [
    "metrics.auc(fpr, tpr)"
   ]
  },
  {
   "cell_type": "code",
   "execution_count": 40,
   "id": "b666610c",
   "metadata": {},
   "outputs": [],
   "source": [
    "roc_auc = metrics.auc(fpr, tpr)"
   ]
  },
  {
   "cell_type": "code",
   "execution_count": null,
   "id": "06b16adf",
   "metadata": {},
   "outputs": [],
   "source": []
  },
  {
   "cell_type": "code",
   "execution_count": 41,
   "id": "7ca93851",
   "metadata": {},
   "outputs": [],
   "source": [
    "sk_fpr, sk_tpr, sk_thresholds = metrics.roc_curve(y_test, sk_predict, pos_label=1) "
   ]
  },
  {
   "cell_type": "code",
   "execution_count": 42,
   "id": "8452aa59",
   "metadata": {},
   "outputs": [
    {
     "data": {
      "text/plain": [
       "0.9843771769304307"
      ]
     },
     "execution_count": 42,
     "metadata": {},
     "output_type": "execute_result"
    }
   ],
   "source": [
    "metrics.auc(sk_fpr, sk_tpr)"
   ]
  },
  {
   "cell_type": "code",
   "execution_count": 43,
   "id": "c58a80d2",
   "metadata": {},
   "outputs": [],
   "source": [
    "sk_roc_auc = metrics.auc(sk_fpr, sk_tpr)"
   ]
  },
  {
   "cell_type": "code",
   "execution_count": null,
   "id": "d24e20df",
   "metadata": {},
   "outputs": [],
   "source": []
  },
  {
   "cell_type": "code",
   "execution_count": 44,
   "id": "c547bd2d",
   "metadata": {},
   "outputs": [
    {
     "data": {
      "image/png": "[encoded data removed]",
      "text/plain": [
       "<Figure size 432x288 with 1 Axes>"
      ]
     },
     "metadata": {
      "needs_background": "light"
     },
     "output_type": "display_data"
    }
   ],
   "source": [
    "plt.title('Receiver Operating Characteristic: CD4+ and CD8+')\n",
    "plt.plot(fpr, tpr, label = 'Our SVM, AUC = %0.2f' % roc_auc)\n",
    "plt.plot(sk_fpr, sk_tpr, label = 'Sklearn SVM, AUC = %0.2f' % sk_roc_auc)\n",
    "plt.legend(loc = 'lower right')\n",
    "plt.plot([0, 1], [0, 1],'r--')\n",
    "plt.xlim([0, 1])\n",
    "plt.ylim([0, 1])\n",
    "plt.ylabel('True Positive Rate')\n",
    "plt.xlabel('False Positive Rate')\n",
    "plt.show()"
   ]
  },
  {
   "cell_type": "code",
   "execution_count": null,
   "id": "5fb0ce50",
   "metadata": {},
   "outputs": [],
   "source": []
  },
  {
   "cell_type": "markdown",
   "id": "14a93e8b",
   "metadata": {},
   "source": [
    "#### Confusion matrix"
   ]
  },
  {
   "cell_type": "code",
   "execution_count": 45,
   "id": "db342bf4",
   "metadata": {},
   "outputs": [],
   "source": [
    "from sklearn.metrics import confusion_matrix"
   ]
  },
  {
   "cell_type": "code",
   "execution_count": 46,
   "id": "f19fe8f3",
   "metadata": {},
   "outputs": [],
   "source": [
    "confu_matrix = confusion_matrix(y_test, predict)"
   ]
  },
  {
   "cell_type": "code",
   "execution_count": 47,
   "id": "a8e8f9a4",
   "metadata": {},
   "outputs": [
    {
     "data": {
      "text/plain": [
       "6154"
      ]
     },
     "execution_count": 47,
     "metadata": {},
     "output_type": "execute_result"
    }
   ],
   "source": [
    "new_count = 0\n",
    "for i in range(len(y_test)):\n",
    "    if y_test[i] == predict[i] and y_test[i] == 1:\n",
    "        new_count += 1\n",
    "new_count"
   ]
  },
  {
   "cell_type": "code",
   "execution_count": null,
   "id": "e58d7c56",
   "metadata": {},
   "outputs": [],
   "source": []
  },
  {
   "cell_type": "code",
   "execution_count": 48,
   "id": "ef0e43a5",
   "metadata": {},
   "outputs": [],
   "source": [
    "sk_confu_matrix = confusion_matrix(y_test, sk_predict)"
   ]
  },
  {
   "cell_type": "code",
   "execution_count": 49,
   "id": "e0789dc1",
   "metadata": {},
   "outputs": [
    {
     "data": {
      "text/plain": [
       "6162"
      ]
     },
     "execution_count": 49,
     "metadata": {},
     "output_type": "execute_result"
    }
   ],
   "source": [
    "sk_new_count = 0\n",
    "for i in range(len(y_test)):\n",
    "    if y_test[i] == sk_predict[i] and y_test[i] == 1:\n",
    "        sk_new_count += 1\n",
    "sk_new_count"
   ]
  },
  {
   "cell_type": "code",
   "execution_count": null,
   "id": "5d2c44a5",
   "metadata": {},
   "outputs": [],
   "source": []
  },
  {
   "cell_type": "code",
   "execution_count": null,
   "id": "fcf20bcf",
   "metadata": {},
   "outputs": [],
   "source": []
  },
  {
   "cell_type": "code",
   "execution_count": 50,
   "id": "3d40db0e",
   "metadata": {
    "scrolled": false
   },
   "outputs": [
    {
     "name": "stdout",
     "output_type": "stream",
     "text": [
      "Confusion Matrix:\n",
      "\n",
      "\t Predicted: CD8+ Predicted: CD4+\n",
      "Actual: CD8+\t5112\t97\n",
      "Actual: CD4+\t59\t6154\n"
     ]
    }
   ],
   "source": [
    "print(\"Confusion Matrix:\\n\")\n",
    "print(\"\\t\",\"Predicted: CD8+\", \"Predicted: CD4+\")\n",
    "to_print = np.array([\"Actual: CD8+\", \"Actual: CD4+\"]).reshape(-1,1)\n",
    "to_print_total = np.hstack([to_print,confu_matrix])\n",
    "for i in range(to_print_total.shape[0]):\n",
    "    print(*to_print_total[i,:],sep=\"\\t\")"
   ]
  },
  {
   "cell_type": "code",
   "execution_count": 51,
   "id": "47fc79f3",
   "metadata": {},
   "outputs": [
    {
     "name": "stdout",
     "output_type": "stream",
     "text": [
      "Sklearn Confusion Matrix:\n",
      "\n",
      "\t Predicted: CD8+ Predicted: CD4+\n",
      "Actual: CD8+\t5089\t120\n",
      "Actual: CD4+\t51\t6162\n"
     ]
    }
   ],
   "source": [
    "print(\"Sklearn Confusion Matrix:\\n\")\n",
    "print(\"\\t\",\"Predicted: CD8+\", \"Predicted: CD4+\")\n",
    "sk_to_print = np.array([\"Actual: CD8+\", \"Actual: CD4+\"]).reshape(-1,1)\n",
    "sk_to_print_total = np.hstack([to_print,sk_confu_matrix])\n",
    "for i in range(sk_to_print_total.shape[0]):\n",
    "    print(*sk_to_print_total[i,:],sep=\"\\t\")"
   ]
  },
  {
   "cell_type": "code",
   "execution_count": null,
   "id": "7db8eaa3",
   "metadata": {},
   "outputs": [],
   "source": []
  },
  {
   "cell_type": "markdown",
   "id": "174ebd35",
   "metadata": {},
   "source": [
    "#### F1 Score"
   ]
  },
  {
   "cell_type": "code",
   "execution_count": 52,
   "id": "e3938770",
   "metadata": {},
   "outputs": [
    {
     "data": {
      "text/plain": [
       "(5112, 97, 59, 6154)"
      ]
     },
     "execution_count": 52,
     "metadata": {},
     "output_type": "execute_result"
    }
   ],
   "source": [
    "tn, fp, fn, tp = confusion_matrix(y_test, predict).ravel()\n",
    "tn, fp, fn, tp"
   ]
  },
  {
   "cell_type": "code",
   "execution_count": 53,
   "id": "2ac9c101",
   "metadata": {},
   "outputs": [
    {
     "name": "stdout",
     "output_type": "stream",
     "text": [
      "F1 Score:  0.9874839537869061\n"
     ]
    }
   ],
   "source": [
    "Precision = tp/(tp+fp)\n",
    "Recall = tp/(tp+fn)\n",
    "F1 = 2/(1/Precision+1/Recall)\n",
    "print(\"F1 Score: \",F1)"
   ]
  },
  {
   "cell_type": "code",
   "execution_count": null,
   "id": "df5178cd",
   "metadata": {},
   "outputs": [],
   "source": []
  },
  {
   "cell_type": "code",
   "execution_count": 54,
   "id": "538e3070",
   "metadata": {},
   "outputs": [
    {
     "data": {
      "text/plain": [
       "(5089, 120, 51, 6162)"
      ]
     },
     "execution_count": 54,
     "metadata": {},
     "output_type": "execute_result"
    }
   ],
   "source": [
    "sk_tn, sk_fp, sk_fn, sk_tp = confusion_matrix(y_test, sk_predict).ravel()\n",
    "sk_tn, sk_fp, sk_fn, sk_tp"
   ]
  },
  {
   "cell_type": "code",
   "execution_count": 55,
   "id": "3e6797f3",
   "metadata": {},
   "outputs": [
    {
     "name": "stdout",
     "output_type": "stream",
     "text": [
      "Sklearn F1 Score:  0.986314525810324\n"
     ]
    }
   ],
   "source": [
    "sk_Precision = sk_tp/(sk_tp+sk_fp)\n",
    "sk_Recall = sk_tp/(sk_tp+sk_fn)\n",
    "sk_F1 = 2/(1/sk_Precision+1/sk_Recall)\n",
    "print(\"Sklearn F1 Score: \",sk_F1)"
   ]
  },
  {
   "cell_type": "code",
   "execution_count": null,
   "id": "0731a969",
   "metadata": {},
   "outputs": [],
   "source": []
  },
  {
   "cell_type": "code",
   "execution_count": null,
   "id": "c0a16e9f",
   "metadata": {},
   "outputs": [],
   "source": []
  },
  {
   "cell_type": "code",
   "execution_count": null,
   "id": "517ea78a",
   "metadata": {},
   "outputs": [],
   "source": []
  },
  {
   "cell_type": "code",
   "execution_count": null,
   "id": "df277e71",
   "metadata": {},
   "outputs": [],
   "source": []
  },
  {
   "cell_type": "code",
   "execution_count": null,
   "id": "526969eb",
   "metadata": {},
   "outputs": [],
   "source": []
  }
 ],
 "metadata": {
  "kernelspec": {
   "display_name": "Python 3 (ipykernel)",
   "language": "python",
   "name": "python3"
  },
  "language_info": {
   "codemirror_mode": {
    "name": "ipython",
    "version": 3
   },
   "file_extension": ".py",
   "mimetype": "text/x-python",
   "name": "python",
   "nbconvert_exporter": "python",
   "pygments_lexer": "ipython3",
   "version": "3.9.7"
  }
 },
 "nbformat": 4,
 "nbformat_minor": 5
}
